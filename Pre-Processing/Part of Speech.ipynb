{
 "cells": [
  {
   "cell_type": "code",
   "execution_count": 1,
   "metadata": {},
   "outputs": [
    {
     "name": "stderr",
     "output_type": "stream",
     "text": [
      "C:\\Users\\jonas\\AppData\\Local\\Packages\\PythonSoftwareFoundation.Python.3.9_qbz5n2kfra8p0\\LocalCache\\local-packages\\Python39\\site-packages\\tqdm\\auto.py:21: TqdmWarning: IProgress not found. Please update jupyter and ipywidgets. See https://ipywidgets.readthedocs.io/en/stable/user_install.html\n",
      "  from .autonotebook import tqdm as notebook_tqdm\n"
     ]
    }
   ],
   "source": [
    "import spacy\n",
    "\n",
    "nlp = spacy.load(\"en_core_web_sm\")"
   ]
  },
  {
   "cell_type": "code",
   "execution_count": 2,
   "metadata": {},
   "outputs": [
    {
     "name": "stdout",
     "output_type": "stream",
     "text": [
      "Wow  |  INTJ  |  interjection\n",
      "!  |  PUNCT  |  punctuation\n",
      "Jonas  |  PROPN  |  proper noun\n",
      "is  |  AUX  |  auxiliary\n",
      "so  |  ADV  |  adverb\n",
      "excited  |  ADJ  |  adjective\n",
      "to  |  PART  |  particle\n",
      "eat  |  VERB  |  verb\n",
      "waffles  |  NOUN  |  noun\n",
      ",  |  PUNCT  |  punctuation\n",
      "he  |  PRON  |  pronoun\n",
      "is  |  AUX  |  auxiliary\n",
      "going  |  VERB  |  verb\n",
      "to  |  PART  |  particle\n",
      "devour  |  VERB  |  verb\n",
      "them  |  PRON  |  pronoun\n",
      "so  |  ADV  |  adverb\n",
      "quickly  |  ADV  |  adverb\n",
      "!  |  PUNCT  |  punctuation\n"
     ]
    }
   ],
   "source": [
    "doc = nlp(\"Wow! Jonas is so excited to eat waffles, he is going to devour them so quickly!\")\n",
    "\n",
    "for token in doc:\n",
    "    print(token, \" | \", token.pos_, \" | \", spacy.explain(token.pos_))"
   ]
  },
  {
   "cell_type": "code",
   "execution_count": 3,
   "metadata": {},
   "outputs": [
    {
     "name": "stdout",
     "output_type": "stream",
     "text": [
      "Wow  |  UH  |  interjection\n",
      "!  |  .  |  punctuation mark, sentence closer\n",
      "Jonas  |  NNP  |  noun, proper singular\n",
      "is  |  VBZ  |  verb, 3rd person singular present\n",
      "so  |  RB  |  adverb\n",
      "excited  |  JJ  |  adjective (English), other noun-modifier (Chinese)\n",
      "to  |  TO  |  infinitival \"to\"\n",
      "eat  |  VB  |  verb, base form\n",
      "waffles  |  NNS  |  noun, plural\n",
      ",  |  ,  |  punctuation mark, comma\n",
      "he  |  PRP  |  pronoun, personal\n",
      "is  |  VBZ  |  verb, 3rd person singular present\n",
      "going  |  VBG  |  verb, gerund or present participle\n",
      "to  |  TO  |  infinitival \"to\"\n",
      "devour  |  VB  |  verb, base form\n",
      "them  |  PRP  |  pronoun, personal\n",
      "so  |  RB  |  adverb\n",
      "quickly  |  RB  |  adverb\n",
      "!  |  .  |  punctuation mark, sentence closer\n"
     ]
    }
   ],
   "source": [
    "doc = nlp(\"Wow! Jonas is so excited to eat waffles, he is going to devour them so quickly!\")\n",
    "\n",
    "for token in doc:\n",
    "    print(token, \" | \", token.tag_, \" | \", spacy.explain(token.tag_))"
   ]
  },
  {
   "cell_type": "code",
   "execution_count": 7,
   "metadata": {},
   "outputs": [
    {
     "data": {
      "text/plain": [
       "[Wow,\n",
       " Jonas,\n",
       " is,\n",
       " so,\n",
       " excited,\n",
       " to,\n",
       " eat,\n",
       " waffles,\n",
       " he,\n",
       " is,\n",
       " going,\n",
       " to,\n",
       " devour,\n",
       " them,\n",
       " so,\n",
       " quickly]"
      ]
     },
     "execution_count": 7,
     "metadata": {},
     "output_type": "execute_result"
    }
   ],
   "source": [
    "#Remove useless punctuation and spaces\n",
    "doc = nlp(\"Wow! Jonas is so excited to eat waffles, he is going to devour them so quickly!\")\n",
    "\n",
    "filtered_tokens = []\n",
    "\n",
    "for token in doc:\n",
    "    if token.pos_ not in [\"SPACE\",\"X\",\"PUNCT\"]:\n",
    "        filtered_tokens.append(token)\n",
    "\n",
    "filtered_tokens"
   ]
  },
  {
   "cell_type": "code",
   "execution_count": 10,
   "metadata": {},
   "outputs": [
    {
     "name": "stdout",
     "output_type": "stream",
     "text": [
      "INTJ  |  1\n",
      "PUNCT  |  3\n",
      "PROPN  |  1\n",
      "AUX  |  2\n",
      "ADV  |  3\n",
      "ADJ  |  1\n",
      "PART  |  2\n",
      "VERB  |  3\n",
      "NOUN  |  1\n",
      "PRON  |  2\n"
     ]
    }
   ],
   "source": [
    "count = doc.count_by(spacy.attrs.POS)\n",
    "\n",
    "for k,v in count.items():\n",
    "    print(doc.vocab[k].text, \" | \", v)\n"
   ]
  }
 ],
 "metadata": {
  "kernelspec": {
   "display_name": "Python 3",
   "language": "python",
   "name": "python3"
  },
  "language_info": {
   "codemirror_mode": {
    "name": "ipython",
    "version": 3
   },
   "file_extension": ".py",
   "mimetype": "text/x-python",
   "name": "python",
   "nbconvert_exporter": "python",
   "pygments_lexer": "ipython3",
   "version": "3.9.13"
  },
  "orig_nbformat": 4
 },
 "nbformat": 4,
 "nbformat_minor": 2
}
