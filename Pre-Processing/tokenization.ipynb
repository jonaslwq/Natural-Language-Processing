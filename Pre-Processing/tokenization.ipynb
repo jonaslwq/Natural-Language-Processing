{
 "cells": [
  {
   "cell_type": "code",
   "execution_count": 2,
   "metadata": {},
   "outputs": [],
   "source": [
    "import spacy\n",
    "nlp = spacy.load(\"en_core_web_sm\")"
   ]
  },
  {
   "cell_type": "code",
   "execution_count": 1,
   "metadata": {},
   "outputs": [],
   "source": [
    "text = \"Dr. Strange loves chicken pie as it only costs $2 per plate.\""
   ]
  },
  {
   "cell_type": "code",
   "execution_count": 4,
   "metadata": {},
   "outputs": [
    {
     "name": "stdout",
     "output_type": "stream",
     "text": [
      "Dr. ==> 0 is_alpha: False is_punct: False like_num: False is_currency: False\n",
      "Strange ==> 1 is_alpha: True is_punct: False like_num: False is_currency: False\n",
      "loves ==> 2 is_alpha: True is_punct: False like_num: False is_currency: False\n",
      "chicken ==> 3 is_alpha: True is_punct: False like_num: False is_currency: False\n",
      "pie ==> 4 is_alpha: True is_punct: False like_num: False is_currency: False\n",
      "as ==> 5 is_alpha: True is_punct: False like_num: False is_currency: False\n",
      "it ==> 6 is_alpha: True is_punct: False like_num: False is_currency: False\n",
      "only ==> 7 is_alpha: True is_punct: False like_num: False is_currency: False\n",
      "costs ==> 8 is_alpha: True is_punct: False like_num: False is_currency: False\n",
      "$ ==> 9 is_alpha: False is_punct: False like_num: False is_currency: True\n",
      "2 ==> 10 is_alpha: False is_punct: False like_num: True is_currency: False\n",
      "per ==> 11 is_alpha: True is_punct: False like_num: False is_currency: False\n",
      "plate ==> 12 is_alpha: True is_punct: False like_num: False is_currency: False\n",
      ". ==> 13 is_alpha: False is_punct: True like_num: False is_currency: False\n"
     ]
    }
   ],
   "source": [
    "doc = nlp(text)\n",
    "\n",
    "for token in doc:\n",
    "    print(token, \"==>\", token.i,\n",
    "          \"is_alpha:\", token.is_alpha,\n",
    "          \"is_punct:\", token.is_punct,\n",
    "          \"like_num:\", token.like_num,\n",
    "          \"is_currency:\", token.is_currency        \n",
    "    )"
   ]
  },
  {
   "cell_type": "code",
   "execution_count": 8,
   "metadata": {},
   "outputs": [
    {
     "data": {
      "text/plain": [
       "['hey', '!', 'gim', 'me', 'that', '$', '2', '!']"
      ]
     },
     "execution_count": 8,
     "metadata": {},
     "output_type": "execute_result"
    }
   ],
   "source": [
    "#Customising and adding special case\n",
    "\n",
    "from spacy.symbols import ORTH\n",
    "\n",
    "nlp.tokenizer.add_special_case(\"gimme\", [\n",
    "                               {ORTH: \"gim\"},\n",
    "                               {ORTH: \"me\"}\n",
    "])\n",
    "\n",
    "text2 = 'hey! gimme that $2!'\n",
    "\n",
    "doc2 = nlp(text2)\n",
    "\n",
    "words = [token.text for token in doc2]\n",
    "words\n"
   ]
  },
  {
   "cell_type": "code",
   "execution_count": 9,
   "metadata": {},
   "outputs": [],
   "source": [
    "#Blank pipeline and adding components\n",
    "\n",
    "nlp2 = spacy.blank(\"en\")"
   ]
  },
  {
   "cell_type": "code",
   "execution_count": 16,
   "metadata": {},
   "outputs": [
    {
     "ename": "ValueError",
     "evalue": "[E007] 'sentencizer' already exists in pipeline. Existing names: ['sentencizer']",
     "output_type": "error",
     "traceback": [
      "\u001b[1;31m---------------------------------------------------------------------------\u001b[0m",
      "\u001b[1;31mValueError\u001b[0m                                Traceback (most recent call last)",
      "\u001b[1;32mc:\\Users\\jonas\\OneDrive\\Desktop\\Work\\Coding\\NLP\\practice\\tokenization.ipynb Cell 6\u001b[0m in \u001b[0;36m1\n\u001b[1;32m----> <a href='vscode-notebook-cell:/c%3A/Users/jonas/OneDrive/Desktop/Work/Coding/NLP/practice/tokenization.ipynb#W5sZmlsZQ%3D%3D?line=0'>1</a>\u001b[0m nlp2\u001b[39m.\u001b[39madd_pipe(\u001b[39m'\u001b[39m\u001b[39msentencizer\u001b[39m\u001b[39m'\u001b[39m)\n\u001b[0;32m      <a href='vscode-notebook-cell:/c%3A/Users/jonas/OneDrive/Desktop/Work/Coding/NLP/practice/tokenization.ipynb#W5sZmlsZQ%3D%3D?line=2'>3</a>\u001b[0m doc \u001b[39m=\u001b[39m nlp2(text)\n\u001b[0;32m      <a href='vscode-notebook-cell:/c%3A/Users/jonas/OneDrive/Desktop/Work/Coding/NLP/practice/tokenization.ipynb#W5sZmlsZQ%3D%3D?line=4'>5</a>\u001b[0m \u001b[39mfor\u001b[39;00m sentence \u001b[39min\u001b[39;00m doc\u001b[39m.\u001b[39msents:\n",
      "File \u001b[1;32m~\\AppData\\Local\\Packages\\PythonSoftwareFoundation.Python.3.9_qbz5n2kfra8p0\\LocalCache\\local-packages\\Python39\\site-packages\\spacy\\language.py:775\u001b[0m, in \u001b[0;36mLanguage.add_pipe\u001b[1;34m(self, factory_name, name, before, after, first, last, source, config, raw_config, validate)\u001b[0m\n\u001b[0;32m    773\u001b[0m name \u001b[39m=\u001b[39m name \u001b[39mif\u001b[39;00m name \u001b[39mis\u001b[39;00m \u001b[39mnot\u001b[39;00m \u001b[39mNone\u001b[39;00m \u001b[39melse\u001b[39;00m factory_name\n\u001b[0;32m    774\u001b[0m \u001b[39mif\u001b[39;00m name \u001b[39min\u001b[39;00m \u001b[39mself\u001b[39m\u001b[39m.\u001b[39mcomponent_names:\n\u001b[1;32m--> 775\u001b[0m     \u001b[39mraise\u001b[39;00m \u001b[39mValueError\u001b[39;00m(Errors\u001b[39m.\u001b[39mE007\u001b[39m.\u001b[39mformat(name\u001b[39m=\u001b[39mname, opts\u001b[39m=\u001b[39m\u001b[39mself\u001b[39m\u001b[39m.\u001b[39mcomponent_names))\n\u001b[0;32m    776\u001b[0m \u001b[39m# Overriding pipe name in the config is not supported and will be ignored.\u001b[39;00m\n\u001b[0;32m    777\u001b[0m \u001b[39mif\u001b[39;00m \u001b[39m\"\u001b[39m\u001b[39mname\u001b[39m\u001b[39m\"\u001b[39m \u001b[39min\u001b[39;00m config:\n",
      "\u001b[1;31mValueError\u001b[0m: [E007] 'sentencizer' already exists in pipeline. Existing names: ['sentencizer']"
     ]
    }
   ],
   "source": [
    "nlp2.add_pipe('sentencizer')"
   ]
  },
  {
   "cell_type": "code",
   "execution_count": 17,
   "metadata": {},
   "outputs": [
    {
     "name": "stdout",
     "output_type": "stream",
     "text": [
      "Dr. Strange loves chicken pie as it only costs $2 per plate.\n"
     ]
    }
   ],
   "source": [
    "doc = nlp2(text)\n",
    "\n",
    "for sentence in doc.sents:\n",
    "    print(sentence)"
   ]
  },
  {
   "cell_type": "code",
   "execution_count": 20,
   "metadata": {},
   "outputs": [],
   "source": [
    "#Exploring the different pipelines of \"en_core_web_sm\"\n",
    "\n",
    "text = \"Captain America ate 100$ of samosa. Then he said 'I can do this all day'.\"\n"
   ]
  },
  {
   "cell_type": "code",
   "execution_count": 23,
   "metadata": {},
   "outputs": [
    {
     "name": "stdout",
     "output_type": "stream",
     "text": [
      "Captain  |  PROPN  |  Captain\n",
      "America  |  PROPN  |  America\n",
      "ate  |  VERB  |  eat\n",
      "100  |  NUM  |  100\n",
      "$  |  NUM  |  $\n",
      "of  |  ADP  |  of\n",
      "samosa  |  PROPN  |  samosa\n",
      ".  |  PUNCT  |  .\n",
      "Then  |  ADV  |  then\n",
      "he  |  PRON  |  he\n",
      "said  |  VERB  |  say\n",
      "'  |  PUNCT  |  '\n",
      "I  |  PRON  |  I\n",
      "can  |  AUX  |  can\n",
      "do  |  VERB  |  do\n",
      "this  |  PRON  |  this\n",
      "all  |  DET  |  all\n",
      "day  |  NOUN  |  day\n",
      "'  |  PUNCT  |  '\n",
      ".  |  PUNCT  |  .\n"
     ]
    }
   ],
   "source": [
    "doc = nlp(text)\n",
    "\n",
    "for token in doc:\n",
    "    print(token, \" | \", token.pos_, \" | \", token.lemma_)"
   ]
  },
  {
   "cell_type": "code",
   "execution_count": 24,
   "metadata": {},
   "outputs": [
    {
     "name": "stdout",
     "output_type": "stream",
     "text": [
      "Tesla Inc  |  ORG  |  Companies, agencies, institutions, etc.\n",
      "$45 billion  |  MONEY  |  Monetary values, including unit\n"
     ]
    }
   ],
   "source": [
    "doc = nlp(\"Tesla Inc is going to acquire twitter for $45 billion\")\n",
    "\n",
    "for ent in doc.ents:\n",
    "    print(ent.text, \" | \", ent.label_, \" | \", spacy.explain(ent.label_))"
   ]
  }
 ],
 "metadata": {
  "kernelspec": {
   "display_name": "Python 3",
   "language": "python",
   "name": "python3"
  },
  "language_info": {
   "codemirror_mode": {
    "name": "ipython",
    "version": 3
   },
   "file_extension": ".py",
   "mimetype": "text/x-python",
   "name": "python",
   "nbconvert_exporter": "python",
   "pygments_lexer": "ipython3",
   "version": "3.9.13"
  },
  "orig_nbformat": 4
 },
 "nbformat": 4,
 "nbformat_minor": 2
}
